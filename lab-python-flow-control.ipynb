{
 "cells": [
  {
   "cell_type": "markdown",
   "id": "d3bfc191-8885-42ee-b0a0-bbab867c6f9f",
   "metadata": {
    "tags": []
   },
   "source": [
    "# Lab | Flow Control"
   ]
  },
  {
   "cell_type": "markdown",
   "id": "3851fcd1-cf98-4653-9c89-e003b7ec9400",
   "metadata": {},
   "source": [
    "## Exercise: Managing Customer Orders Optimized\n",
    "\n",
    "In the last lab, you were starting an online store that sells various products. To ensure smooth operations, you developed a program that manages customer orders and inventory.\n",
    "\n",
    "You did so without using flow control. Let's go a step further and improve this code.\n",
    "\n",
    "Follow the steps below to complete the exercise:\n",
    "\n",
    "1. Look at your code from the lab data structures, and improve repeated code with loops.\n",
    "\n",
    "2. Instead of asking the user to input the name of three products that a customer wants to order, do the following:\n",
    "    \n",
    "    a. Prompt the user to enter the name of a product that a customer wants to order.\n",
    "    \n",
    "    b. Add the product name to the \"customer_orders\" set.\n",
    "    \n",
    "    c. Ask the user if they want to add another product (yes/no).\n",
    "    \n",
    "    d. Continue the loop until the user does not want to add another product.\n",
    "\n",
    "3. Instead of updating the inventory by subtracting 1 from the quantity of each product, only do it for  the products that were ordered (those in \"customer_orders\")."
   ]
  },
  {
   "cell_type": "code",
   "execution_count": 2,
   "id": "ab803dae",
   "metadata": {},
   "outputs": [
    {
     "name": "stdout",
     "output_type": "stream",
     "text": [
      "Initial Inventory:\n",
      "{'t-shirt': 2, 'mug': 2, 'hat': 2, 'book': 2, 'keychain': 2}\n",
      "Customer Orders:\n",
      "{'hat'}\n",
      "Order Statistics:\n",
      "Total Products Ordered: 1\n",
      "Percentage of Products Ordered: 10.0%\n",
      "Final Inventory:\n",
      "t-shirt: 2\n",
      "mug: 2\n",
      "hat: 1\n",
      "book: 2\n",
      "keychain: 2\n"
     ]
    }
   ],
   "source": [
    "## Initializing Data Structures\n",
    "\n",
    "products = [ \"t-shirt\", \"mug\", \"hat\", \"book\", \"keychain\"]\n",
    "inventory = {}\n",
    "customer_orders = set()\n",
    "\n",
    "## Input the initial Inventory and calculate total products\n",
    "\n",
    "for product in products:\n",
    "    n = int(input(f\"Enter inventory for {product}: \"))\n",
    "    inventory[product] = n\n",
    "total_stock = sum(inventory.values())\n",
    "\n",
    "## Print Initial Inventory State\n",
    "\n",
    "print(\"Initial Inventory:\")\n",
    "print(inventory)\n",
    "\n",
    "## Input constumer orders and uptade stock\n",
    "\n",
    "ordering = True\n",
    "\n",
    "while ordering:\n",
    "    \n",
    "    order = input(f\"Enter order:\")\n",
    "    if inventory.get(order) is not None and inventory[order] > 0:\n",
    "        inventory[order] -= 1\n",
    "        customer_orders.add(order)\n",
    "        \n",
    "    else:\n",
    "        print(f\"{order} not in stock\")\n",
    "    \n",
    "    ans = ''\n",
    "    while ans != \"no\" and ans != \"yes\":\n",
    "        ans = input(\"Do you want to order more? (yes/no): \")\n",
    "        if ans == \"no\":\n",
    "            ordering = False\n",
    "               \n",
    "print(\"Customer Orders:\")\n",
    "print(customer_orders)\n",
    "\n",
    "## Calculate Statistics\n",
    "\n",
    "total_orders = len(customer_orders)\n",
    "percent_stock = total_orders/total_stock * 100\n",
    "order_status = tuple([total_orders, percent_stock])\n",
    "print(\"Order Statistics:\")\n",
    "print(f\"Total Products Ordered: {total_orders}\") \n",
    "print(f\"Percentage of Products Ordered: {percent_stock}%\")\n",
    "\n",
    "## Print Final Inventory State\n",
    "\n",
    "print(\"Final Inventory:\")\n",
    "for item in inventory:\n",
    "    print(f\"{item}: {inventory[item]}\")\n"
   ]
  }
 ],
 "metadata": {
  "kernelspec": {
   "display_name": "Python 3 (ipykernel)",
   "language": "python",
   "name": "python3"
  },
  "language_info": {
   "codemirror_mode": {
    "name": "ipython",
    "version": 3
   },
   "file_extension": ".py",
   "mimetype": "text/x-python",
   "name": "python",
   "nbconvert_exporter": "python",
   "pygments_lexer": "ipython3",
   "version": "3.12.4"
  }
 },
 "nbformat": 4,
 "nbformat_minor": 5
}
